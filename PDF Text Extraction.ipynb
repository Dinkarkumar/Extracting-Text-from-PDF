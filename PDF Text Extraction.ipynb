{
 "cells": [
  {
   "cell_type": "code",
   "execution_count": 1,
   "metadata": {},
   "outputs": [
    {
     "name": "stdout",
     "output_type": "stream",
     "text": [
      "Collecting PyPDF2\n",
      "  Downloading PyPDF2-1.26.0.tar.gz (77 kB)\n",
      "\u001b[K     |████████████████████████████████| 77 kB 395 kB/s eta 0:00:011\n",
      "\u001b[?25hBuilding wheels for collected packages: PyPDF2\n",
      "  Building wheel for PyPDF2 (setup.py) ... \u001b[?25ldone\n",
      "\u001b[?25h  Created wheel for PyPDF2: filename=PyPDF2-1.26.0-py3-none-any.whl size=61084 sha256=ef0fedcc36933a6dc8ccc1dd1a8ddc05fe5baf101c1c0341c0ea5c9f563470d9\n",
      "  Stored in directory: /home/dinkar/.cache/pip/wheels/80/1a/24/648467ade3a77ed20f35cfd2badd32134e96dd25ca811e64b3\n",
      "Successfully built PyPDF2\n",
      "Installing collected packages: PyPDF2\n",
      "Successfully installed PyPDF2-1.26.0\n"
     ]
    }
   ],
   "source": [
    "#installing the relevant package\n",
    "!pip install PyPDF2"
   ]
  },
  {
   "cell_type": "code",
   "execution_count": 25,
   "metadata": {},
   "outputs": [],
   "source": [
    "import PyPDF2\n",
    "reader = PyPDF2.PdfFileReader('book.pdf')"
   ]
  },
  {
   "cell_type": "code",
   "execution_count": 26,
   "metadata": {},
   "outputs": [
    {
     "data": {
      "text/plain": [
       "{'/Author': '',\n",
       " '/Title': '',\n",
       " '/Subject': '',\n",
       " '/Creator': 'LaTeX with hyperref package',\n",
       " '/Producer': 'pdfTeX-1.40.16',\n",
       " '/Keywords': '',\n",
       " '/CreationDate': \"D:20180703151359+03'00'\",\n",
       " '/ModDate': \"D:20180703151359+03'00'\",\n",
       " '/Trapped': '/False',\n",
       " '/PTEX.Fullbanner': 'This is pdfTeX, Version 3.14159265-2.6-1.40.16 (TeX Live 2015/Debian) kpathsea version 6.2.1'}"
      ]
     },
     "execution_count": 26,
     "metadata": {},
     "output_type": "execute_result"
    }
   ],
   "source": [
    "reader.documentInfo"
   ]
  },
  {
   "cell_type": "code",
   "execution_count": 17,
   "metadata": {},
   "outputs": [],
   "source": [
    "reader = PyPDF2.PdfFileReader('Cover_Letter_Dinkar_Kumar.pdf')"
   ]
  },
  {
   "cell_type": "code",
   "execution_count": 18,
   "metadata": {},
   "outputs": [
    {
     "data": {
      "text/plain": [
       "{'/Title': 'Cover_Letter_Dinkar_Kumar',\n",
       " '/Producer': 'Skia/PDF m92 Google Docs Renderer'}"
      ]
     },
     "execution_count": 18,
     "metadata": {},
     "output_type": "execute_result"
    }
   ],
   "source": [
    "reader.documentInfo"
   ]
  },
  {
   "cell_type": "code",
   "execution_count": 27,
   "metadata": {},
   "outputs": [
    {
     "data": {
      "text/plain": [
       "'Chapter1\\nIntroduction\\nCompetitiveprogrammingcombinestwotopics:(1)thedesignofalgorithmsand\\n(2)theimplementationofalgorithms.\\nThe\\ndesignofalgorithms\\nconsistsofproblemsolvingandmathematical\\nthinking.Skillsforanalyzingproblemsandsolvingthemcreativelyareneeded.\\nAnalgorithmforsolvingaproblemhastobebothcorrectandandthe\\ncoreoftheproblemisoftenaboutinventinganalgorithm.\\nTheoreticalknowledgeofalgorithmsisimportanttocompetitiveprogrammers.\\nTypically,asolutiontoaproblemisacombinationofwell-knowntechniquesand\\nnewinsights.Thetechniquesthatappearincompetitiveprogrammingalsoform\\nthebasisfortheresearchofalgorithms.\\nThe\\nimplementationofalgorithms\\nrequiresgoodprogrammingskills.In\\ncompetitiveprogramming,thesolutionsaregradedbytestinganimplemented\\nalgorithmusingasetoftestcases.Thus,itisnotenoughthattheideaofthe\\nalgorithmiscorrect,buttheimplementationalsohastobecorrect.\\nAgoodcodingstyleincontestsisstraightforwardandconcise.Programs\\nshouldbewrittenquickly,becausethereisnotmuchtimeavailable.Unlikein\\ntraditionalsoftwareengineering,theprogramsareshort(usuallyatmostafew\\nhundredlinesofcode),andtheydonotneedtobemaintainedafterthecontest.\\nProgramminglanguages\\nAtthemoment,themostpopularprogramminglanguagesusedincontestsare\\nC++,PythonandJava.Forexample,inGoogleCodeJam2017,amongthebest\\n3,000participants,79%usedC++,16%usedPythonand8%usedJava[\\n29\\n].\\nSomeparticipantsalsousedseverallanguages.\\nManypeoplethinkthatC++isthebestchoiceforacompetitiveprogrammer,\\nandC++isnearlyalwaysavailableincontestsystems.TheofusingC++\\narethatitisaverylanguageanditsstandardlibrarycontainsalarge\\ncollectionofdatastructuresandalgorithms.\\nOntheotherhand,itisgoodtomasterseverallanguagesandunderstand\\ntheirstrengths.Forexample,iflargeintegersareneededintheproblem,Python\\ncanbeagoodchoice,becauseitcontainsbuilt-inoperationsforcalculatingwith\\n3\\n'"
      ]
     },
     "execution_count": 27,
     "metadata": {},
     "output_type": "execute_result"
    }
   ],
   "source": [
    "reader.getPage(12).extractText()"
   ]
  },
  {
   "cell_type": "code",
   "execution_count": 29,
   "metadata": {},
   "outputs": [],
   "source": [
    "writer = PyPDF2.PdfFileWriter()"
   ]
  },
  {
   "cell_type": "code",
   "execution_count": 31,
   "metadata": {},
   "outputs": [],
   "source": [
    "my_page = reader.getPage(12)\n",
    "writer.addPage(my_page)"
   ]
  },
  {
   "cell_type": "code",
   "execution_count": 33,
   "metadata": {},
   "outputs": [],
   "source": [
    "output_file = 'pages_we_want_to_save.pdf'\n",
    "with open(output_file,'wb') as output:\n",
    "    writer.write(output)"
   ]
  },
  {
   "cell_type": "code",
   "execution_count": 34,
   "metadata": {},
   "outputs": [
    {
     "name": "stdout",
     "output_type": "stream",
     "text": [
      "Collecting pdfminer.six\n",
      "  Downloading pdfminer.six-20201018-py3-none-any.whl (5.6 MB)\n",
      "\u001b[K     |████████████████████████████████| 5.6 MB 2.0 MB/s eta 0:00:01\n",
      "\u001b[?25hRequirement already satisfied: chardet in /home/dinkar/anaconda3/lib/python3.7/site-packages (from pdfminer.six) (3.0.4)\n",
      "Requirement already satisfied: cryptography in /home/dinkar/.local/lib/python3.7/site-packages (from pdfminer.six) (2.9)\n",
      "Requirement already satisfied: sortedcontainers in /home/dinkar/anaconda3/lib/python3.7/site-packages (from pdfminer.six) (2.1.0)\n",
      "Requirement already satisfied: cffi!=1.11.3,>=1.8 in /home/dinkar/.local/lib/python3.7/site-packages (from cryptography->pdfminer.six) (1.14.0)\n",
      "Requirement already satisfied: six>=1.4.1 in /home/dinkar/anaconda3/lib/python3.7/site-packages (from cryptography->pdfminer.six) (1.12.0)\n",
      "Requirement already satisfied: pycparser in /home/dinkar/.local/lib/python3.7/site-packages (from cffi!=1.11.3,>=1.8->cryptography->pdfminer.six) (2.20)\n",
      "Installing collected packages: pdfminer.six\n",
      "Successfully installed pdfminer.six-20201018\n"
     ]
    }
   ],
   "source": [
    "!pip install pdfminer.six"
   ]
  },
  {
   "cell_type": "code",
   "execution_count": 35,
   "metadata": {},
   "outputs": [],
   "source": [
    "from io import StringIO\n",
    "\n",
    "from pdfminer.converter import TextConverter\n",
    "from pdfminer.layout import LAParams\n",
    "from pdfminer.pdfdocument import PDFDocument\n",
    "from pdfminer.pdfinterp import PDFResourceManager, PDFPageInterpreter\n",
    "from pdfminer.pdfpage import PDFPage\n",
    "from pdfminer.pdfparser import PDFParser"
   ]
  },
  {
   "cell_type": "code",
   "execution_count": 48,
   "metadata": {},
   "outputs": [],
   "source": [
    "def convert_pdf_to_string(file_path):\n",
    "    output_string = StringIO()\n",
    "    with open(file_path,'rb') as in_file:\n",
    "        parser = PDFParser(in_file)\n",
    "        doc = PDFDocument(parser)\n",
    "        rsrcmgr = PDFResourceManager()\n",
    "        device = TextConverter(rsrcmgr,output_string,laparams = LAParams())\n",
    "        interpreter = PDFPageInterpreter(rsrcmgr,device)\n",
    "        for page in PDFPage.create_pages(doc):\n",
    "            interpreter.process_page(page)\n",
    "    return output_string.getvalue()\n",
    "\n",
    "def convert_title_to_filename(title):\n",
    "    filename = title.lower()\n",
    "    filename = filename.replace(' ','_')\n",
    "    return filename\n",
    "\n",
    "def split_to_title_and_pagenum(table_of_contents_entry):\n",
    "    title_and_pagenum = table_of_contents_entry.strip()\n",
    "    \n",
    "    title = None\n",
    "    pagenum = None\n",
    "    \n",
    "    if len(title_and_pagenum)>0:\n",
    "        if title_and_pagenum[-1].isdigit():\n",
    "            i = -2\n",
    "            while (len(tile_and_pagenum))>i and title_and_pagenum[i].isdigit():\n",
    "                i-=1\n",
    "                \n",
    "            title = title_and_pagenum[:i].strip()\n",
    "            pagenum = int(title_and_pagenum[i:].strip())\n",
    "    return title,pagenum"
   ]
  },
  {
   "cell_type": "code",
   "execution_count": 50,
   "metadata": {},
   "outputs": [
    {
     "ename": "NameError",
     "evalue": "name 'table_of_contents_entry' is not defined",
     "output_type": "error",
     "traceback": [
      "\u001b[0;31m---------------------------------------------------------------------------\u001b[0m",
      "\u001b[0;31mNameError\u001b[0m                                 Traceback (most recent call last)",
      "\u001b[0;32m<ipython-input-50-30d6623686d4>\u001b[0m in \u001b[0;36m<module>\u001b[0;34m\u001b[0m\n\u001b[0;32m----> 1\u001b[0;31m \u001b[0mtable_of_contents_entry\u001b[0m\u001b[0;34m.\u001b[0m\u001b[0mstrip\u001b[0m\u001b[0;34m(\u001b[0m\u001b[0;34m)\u001b[0m\u001b[0;34m\u001b[0m\u001b[0;34m\u001b[0m\u001b[0m\n\u001b[0m",
      "\u001b[0;31mNameError\u001b[0m: name 'table_of_contents_entry' is not defined"
     ]
    }
   ],
   "source": [
    "table_of_contents_entry.strip()"
   ]
  },
  {
   "cell_type": "code",
   "execution_count": 40,
   "metadata": {},
   "outputs": [
    {
     "name": "stdout",
     "output_type": "stream",
     "text": [
      "{'/Author': '', '/Title': '', '/Subject': '', '/Creator': 'LaTeX with hyperref package', '/Producer': 'pdfTeX-1.40.16', '/Keywords': '', '/CreationDate': \"D:20180703151359+03'00'\", '/ModDate': \"D:20180703151359+03'00'\", '/Trapped': '/False', '/PTEX.Fullbanner': 'This is pdfTeX, Version 3.14159265-2.6-1.40.16 (TeX Live 2015/Debian) kpathsea version 6.2.1'}\n",
      "Number of pages: 296\n"
     ]
    }
   ],
   "source": [
    "import PyPDF2\n",
    "import csv\n",
    "\n",
    "reader = PyPDF2.PdfFileReader('book.pdf')\n",
    "\n",
    "print(reader.documentInfo)\n",
    "\n",
    "num_of_pages = reader.numPages\n",
    "print('Number of pages: ' + str(num_of_pages))"
   ]
  },
  {
   "cell_type": "code",
   "execution_count": 41,
   "metadata": {},
   "outputs": [],
   "source": [
    "writer = PyPDF2.PdfFileWriter()\n",
    "\n",
    "for page in range(2,4):\n",
    "\n",
    "    writer.addPage(reader.getPage(page))\n",
    "    \n",
    "output_filename = 'table_of_contents.pdf'\n",
    "\n",
    "with open(output_filename, 'wb') as output:\n",
    "    writer.write(output)\n",
    "    \n",
    "text = convert_pdf_to_string('table_of_contents.pdf')"
   ]
  },
  {
   "cell_type": "code",
   "execution_count": 42,
   "metadata": {
    "scrolled": true
   },
   "outputs": [
    {
     "data": {
      "text/plain": [
       "'Contents\\n\\nPreface\\n\\nI Basic techniques\\n\\n1 Introduction\\n\\n1.1 Programming languages . . . . . . . . . . . . . . . . . . . . . . . . .\\n1.2 Input and output . . . . . . . . . . . . . . . . . . . . . . . . . . . . . .\\n1.3 Working with numbers . . . . . . . . . . . . . . . . . . . . . . . . . .\\n1.4 Shortening code . . . . . . . . . . . . . . . . . . . . . . . . . . . . . . .\\n1.5 Mathematics . . . . . . . . . . . . . . . . . . . . . . . . . . . . . . . .\\n1.6 Contests and resources . . . . . . . . . . . . . . . . . . . . . . . . . .\\n\\n2 Time complexity\\n\\n2.1 Calculation rules . . . . . . . . . . . . . . . . . . . . . . . . . . . . . .\\n2.2 Complexity classes . . . . . . . . . . . . . . . . . . . . . . . . . . . . .\\n2.3 Estimating efﬁciency . . . . . . . . . . . . . . . . . . . . . . . . . . .\\n2.4 Maximum subarray sum . . . . . . . . . . . . . . . . . . . . . . . . .\\n\\n3 Sorting\\n\\n3.1 Sorting theory . . . . . . . . . . . . . . . . . . . . . . . . . . . . . . . .\\n3.2 Sorting in C++ . . . . . . . . . . . . . . . . . . . . . . . . . . . . . . .\\n3.3 Binary search . . . . . . . . . . . . . . . . . . . . . . . . . . . . . . . .\\n\\n4 Data structures\\n\\n4.1 Dynamic arrays . . . . . . . . . . . . . . . . . . . . . . . . . . . . . . .\\n4.2 Set structures . . . . . . . . . . . . . . . . . . . . . . . . . . . . . . . .\\n4.3 Map structures . . . . . . . . . . . . . . . . . . . . . . . . . . . . . . .\\n4.4 Iterators and ranges . . . . . . . . . . . . . . . . . . . . . . . . . . . .\\n4.5 Other structures . . . . . . . . . . . . . . . . . . . . . . . . . . . . . .\\n4.6 Comparison to sorting . . . . . . . . . . . . . . . . . . . . . . . . . . .\\n\\n5 Complete search\\n\\n5.1 Generating subsets . . . . . . . . . . . . . . . . . . . . . . . . . . . . .\\n5.2 Generating permutations . . . . . . . . . . . . . . . . . . . . . . . . .\\n5.3 Backtracking . . . . . . . . . . . . . . . . . . . . . . . . . . . . . . . .\\n5.4 Pruning the search . . . . . . . . . . . . . . . . . . . . . . . . . . . . .\\n5.5 Meet in the middle . . . . . . . . . . . . . . . . . . . . . . . . . . . . .\\n\\niii\\n\\nix\\n\\n1\\n\\n3\\n3\\n4\\n6\\n8\\n10\\n15\\n\\n17\\n17\\n20\\n21\\n21\\n\\n25\\n25\\n29\\n31\\n\\n35\\n35\\n37\\n38\\n39\\n41\\n44\\n\\n47\\n47\\n49\\n50\\n51\\n54\\n\\n\\x0c6 Greedy algorithms\\n\\n6.1 Coin problem . . . . . . . . . . . . . . . . . . . . . . . . . . . . . . . .\\n6.2 Scheduling . . . . . . . . . . . . . . . . . . . . . . . . . . . . . . . . . .\\n6.3 Tasks and deadlines . . . . . . . . . . . . . . . . . . . . . . . . . . . .\\n6.4 Minimizing sums . . . . . . . . . . . . . . . . . . . . . . . . . . . . . .\\n6.5 Data compression . . . . . . . . . . . . . . . . . . . . . . . . . . . . .\\n\\n7 Dynamic programming\\n\\n7.1 Coin problem . . . . . . . . . . . . . . . . . . . . . . . . . . . . . . . .\\n7.2 Longest increasing subsequence . . . . . . . . . . . . . . . . . . . . .\\n7.3 Paths in a grid . . . . . . . . . . . . . . . . . . . . . . . . . . . . . . .\\n7.4 Knapsack problems . . . . . . . . . . . . . . . . . . . . . . . . . . . .\\n7.5 Edit distance . . . . . . . . . . . . . . . . . . . . . . . . . . . . . . . .\\n. . . . . . . . . . . . . . . . . . . . . . . . . . . . . .\\n7.6 Counting tilings\\n\\n8 Amortized analysis\\n\\n8.1 Two pointers method . . . . . . . . . . . . . . . . . . . . . . . . . . .\\n8.2 Nearest smaller elements . . . . . . . . . . . . . . . . . . . . . . . . .\\n8.3 Sliding window minimum . . . . . . . . . . . . . . . . . . . . . . . . .\\n\\n9 Range queries\\n\\n9.1 Static array queries . . . . . . . . . . . . . . . . . . . . . . . . . . . .\\n9.2 Binary indexed tree . . . . . . . . . . . . . . . . . . . . . . . . . . . .\\n9.3 Segment tree . . . . . . . . . . . . . . . . . . . . . . . . . . . . . . . .\\n9.4 Additional techniques . . . . . . . . . . . . . . . . . . . . . . . . . . .\\n\\n57\\n57\\n58\\n60\\n61\\n62\\n\\n65\\n65\\n70\\n71\\n72\\n74\\n75\\n\\n77\\n77\\n79\\n81\\n\\n83\\n84\\n86\\n89\\n93\\n\\n10 Bit manipulation\\n\\n95\\n95\\n10.1 Bit representation . . . . . . . . . . . . . . . . . . . . . . . . . . . . .\\n96\\n10.2 Bit operations . . . . . . . . . . . . . . . . . . . . . . . . . . . . . . . .\\n10.3 Representing sets\\n98\\n. . . . . . . . . . . . . . . . . . . . . . . . . . . . .\\n10.4 Bit optimizations . . . . . . . . . . . . . . . . . . . . . . . . . . . . . . 100\\n10.5 Dynamic programming . . . . . . . . . . . . . . . . . . . . . . . . . . 102\\n\\nII Graph algorithms\\n\\n107\\n\\n11 Basics of graphs\\n\\n109\\n11.1 Graph terminology . . . . . . . . . . . . . . . . . . . . . . . . . . . . . 109\\n11.2 Graph representation . . . . . . . . . . . . . . . . . . . . . . . . . . . 113\\n\\n12 Graph traversal\\n\\n117\\n12.1 Depth-ﬁrst search . . . . . . . . . . . . . . . . . . . . . . . . . . . . . 117\\n12.2 Breadth-ﬁrst search . . . . . . . . . . . . . . . . . . . . . . . . . . . . 119\\n12.3 Applications . . . . . . . . . . . . . . . . . . . . . . . . . . . . . . . . . 121\\n\\niv\\n\\n\\x0c'"
      ]
     },
     "execution_count": 42,
     "metadata": {},
     "output_type": "execute_result"
    }
   ],
   "source": [
    "text"
   ]
  },
  {
   "cell_type": "code",
   "execution_count": 43,
   "metadata": {},
   "outputs": [],
   "source": [
    "text = text.replace('.','')\n",
    "text = text.replace('\\x0c','')\n",
    "table_of_contents_raw = text.split('\\n')"
   ]
  },
  {
   "cell_type": "code",
   "execution_count": 45,
   "metadata": {},
   "outputs": [
    {
     "data": {
      "text/plain": [
       "['Contents',\n",
       " '',\n",
       " 'Preface',\n",
       " '',\n",
       " 'I Basic techniques',\n",
       " '',\n",
       " '1 Introduction',\n",
       " '',\n",
       " '11 Programming languages                         ',\n",
       " '12 Input and output                              ',\n",
       " '13 Working with numbers                          ',\n",
       " '14 Shortening code                               ',\n",
       " '15 Mathematics                                ',\n",
       " '16 Contests and resources                          ',\n",
       " '',\n",
       " '2 Time complexity',\n",
       " '',\n",
       " '21 Calculation rules                              ',\n",
       " '22 Complexity classes                             ',\n",
       " '23 Estimating efﬁciency                           ',\n",
       " '24 Maximum subarray sum                         ',\n",
       " '',\n",
       " '3 Sorting',\n",
       " '',\n",
       " '31 Sorting theory                                ',\n",
       " '32 Sorting in C++                               ',\n",
       " '33 Binary search                                ',\n",
       " '',\n",
       " '4 Data structures',\n",
       " '',\n",
       " '41 Dynamic arrays                               ',\n",
       " '42 Set structures                                ',\n",
       " '43 Map structures                               ',\n",
       " '44 Iterators and ranges                            ',\n",
       " '45 Other structures                              ',\n",
       " '46 Comparison to sorting                           ',\n",
       " '',\n",
       " '5 Complete search',\n",
       " '',\n",
       " '51 Generating subsets                             ',\n",
       " '52 Generating permutations                         ',\n",
       " '53 Backtracking                                ',\n",
       " '54 Pruning the search                             ',\n",
       " '55 Meet in the middle                             ',\n",
       " '',\n",
       " 'iii',\n",
       " '',\n",
       " 'ix',\n",
       " '',\n",
       " '1',\n",
       " '',\n",
       " '3',\n",
       " '3',\n",
       " '4',\n",
       " '6',\n",
       " '8',\n",
       " '10',\n",
       " '15',\n",
       " '',\n",
       " '17',\n",
       " '17',\n",
       " '20',\n",
       " '21',\n",
       " '21',\n",
       " '',\n",
       " '25',\n",
       " '25',\n",
       " '29',\n",
       " '31',\n",
       " '',\n",
       " '35',\n",
       " '35',\n",
       " '37',\n",
       " '38',\n",
       " '39',\n",
       " '41',\n",
       " '44',\n",
       " '',\n",
       " '47',\n",
       " '47',\n",
       " '49',\n",
       " '50',\n",
       " '51',\n",
       " '54',\n",
       " '',\n",
       " '6 Greedy algorithms',\n",
       " '',\n",
       " '61 Coin problem                                ',\n",
       " '62 Scheduling                                  ',\n",
       " '63 Tasks and deadlines                            ',\n",
       " '64 Minimizing sums                              ',\n",
       " '65 Data compression                             ',\n",
       " '',\n",
       " '7 Dynamic programming',\n",
       " '',\n",
       " '71 Coin problem                                ',\n",
       " '72 Longest increasing subsequence                     ',\n",
       " '73 Paths in a grid                               ',\n",
       " '74 Knapsack problems                            ',\n",
       " '75 Edit distance                                ',\n",
       " '                             ',\n",
       " '76 Counting tilings',\n",
       " '',\n",
       " '8 Amortized analysis',\n",
       " '',\n",
       " '81 Two pointers method                           ',\n",
       " '82 Nearest smaller elements                         ',\n",
       " '83 Sliding window minimum                         ',\n",
       " '',\n",
       " '9 Range queries',\n",
       " '',\n",
       " '91 Static array queries                            ',\n",
       " '92 Binary indexed tree                            ',\n",
       " '93 Segment tree                                ',\n",
       " '94 Additional techniques                           ',\n",
       " '',\n",
       " '57',\n",
       " '57',\n",
       " '58',\n",
       " '60',\n",
       " '61',\n",
       " '62',\n",
       " '',\n",
       " '65',\n",
       " '65',\n",
       " '70',\n",
       " '71',\n",
       " '72',\n",
       " '74',\n",
       " '75',\n",
       " '',\n",
       " '77',\n",
       " '77',\n",
       " '79',\n",
       " '81',\n",
       " '',\n",
       " '83',\n",
       " '84',\n",
       " '86',\n",
       " '89',\n",
       " '93',\n",
       " '',\n",
       " '10 Bit manipulation',\n",
       " '',\n",
       " '95',\n",
       " '95',\n",
       " '101 Bit representation                             ',\n",
       " '96',\n",
       " '102 Bit operations                                ',\n",
       " '103 Representing sets',\n",
       " '98',\n",
       " '                            ',\n",
       " '104 Bit optimizations                               100',\n",
       " '105 Dynamic programming                           102',\n",
       " '',\n",
       " 'II Graph algorithms',\n",
       " '',\n",
       " '107',\n",
       " '',\n",
       " '11 Basics of graphs',\n",
       " '',\n",
       " '109',\n",
       " '111 Graph terminology                              109',\n",
       " '112 Graph representation                            113',\n",
       " '',\n",
       " '12 Graph traversal',\n",
       " '',\n",
       " '117',\n",
       " '121 Depth-ﬁrst search                              117',\n",
       " '122 Breadth-ﬁrst search                             119',\n",
       " '123 Applications                                  121',\n",
       " '',\n",
       " 'iv',\n",
       " '',\n",
       " '']"
      ]
     },
     "execution_count": 45,
     "metadata": {},
     "output_type": "execute_result"
    }
   ],
   "source": [
    "table_of_contents_raw"
   ]
  },
  {
   "cell_type": "code",
   "execution_count": 49,
   "metadata": {},
   "outputs": [
    {
     "ename": "IndexError",
     "evalue": "string index out of range",
     "output_type": "error",
     "traceback": [
      "\u001b[0;31m---------------------------------------------------------------------------\u001b[0m",
      "\u001b[0;31mIndexError\u001b[0m                                Traceback (most recent call last)",
      "\u001b[0;32m<ipython-input-49-7ab7d2a1660c>\u001b[0m in \u001b[0;36m<module>\u001b[0;34m\u001b[0m\n\u001b[1;32m      4\u001b[0m \u001b[0;32mfor\u001b[0m \u001b[0mitem\u001b[0m \u001b[0;32min\u001b[0m \u001b[0mtable_of_contents_raw\u001b[0m\u001b[0;34m:\u001b[0m\u001b[0;34m\u001b[0m\u001b[0;34m\u001b[0m\u001b[0m\n\u001b[1;32m      5\u001b[0m         \u001b[0mtitle\u001b[0m\u001b[0;34m,\u001b[0m \u001b[0mpagenum\u001b[0m \u001b[0;34m=\u001b[0m\u001b[0;31m \u001b[0m\u001b[0;31m\\\u001b[0m\u001b[0;34m\u001b[0m\u001b[0;34m\u001b[0m\u001b[0m\n\u001b[0;32m----> 6\u001b[0;31m             \u001b[0msplit_to_title_and_pagenum\u001b[0m\u001b[0;34m(\u001b[0m\u001b[0mitem\u001b[0m\u001b[0;34m)\u001b[0m\u001b[0;34m\u001b[0m\u001b[0;34m\u001b[0m\u001b[0m\n\u001b[0m\u001b[1;32m      7\u001b[0m         \u001b[0;32mif\u001b[0m \u001b[0mtitle\u001b[0m \u001b[0;34m!=\u001b[0m \u001b[0;32mNone\u001b[0m\u001b[0;34m:\u001b[0m\u001b[0;34m\u001b[0m\u001b[0;34m\u001b[0m\u001b[0m\n\u001b[1;32m      8\u001b[0m             \u001b[0mtitle_list\u001b[0m\u001b[0;34m.\u001b[0m\u001b[0mappend\u001b[0m\u001b[0;34m(\u001b[0m\u001b[0mtitle\u001b[0m\u001b[0;34m)\u001b[0m\u001b[0;34m\u001b[0m\u001b[0;34m\u001b[0m\u001b[0m\n",
      "\u001b[0;32m<ipython-input-48-1cf9bc013ccc>\u001b[0m in \u001b[0;36msplit_to_title_and_pagenum\u001b[0;34m(table_of_contents_entry)\u001b[0m\n\u001b[1;32m     25\u001b[0m         \u001b[0;32mif\u001b[0m \u001b[0mtitle_and_pagenum\u001b[0m\u001b[0;34m[\u001b[0m\u001b[0;34m-\u001b[0m\u001b[0;36m1\u001b[0m\u001b[0;34m]\u001b[0m\u001b[0;34m.\u001b[0m\u001b[0misdigit\u001b[0m\u001b[0;34m(\u001b[0m\u001b[0;34m)\u001b[0m\u001b[0;34m:\u001b[0m\u001b[0;34m\u001b[0m\u001b[0;34m\u001b[0m\u001b[0m\n\u001b[1;32m     26\u001b[0m             \u001b[0mi\u001b[0m \u001b[0;34m=\u001b[0m \u001b[0;34m-\u001b[0m\u001b[0;36m2\u001b[0m\u001b[0;34m\u001b[0m\u001b[0;34m\u001b[0m\u001b[0m\n\u001b[0;32m---> 27\u001b[0;31m             \u001b[0;32mwhile\u001b[0m \u001b[0mtitle_and_pagenum\u001b[0m\u001b[0;34m[\u001b[0m\u001b[0mi\u001b[0m\u001b[0;34m]\u001b[0m\u001b[0;34m.\u001b[0m\u001b[0misdigit\u001b[0m\u001b[0;34m(\u001b[0m\u001b[0;34m)\u001b[0m\u001b[0;34m:\u001b[0m\u001b[0;34m\u001b[0m\u001b[0;34m\u001b[0m\u001b[0m\n\u001b[0m\u001b[1;32m     28\u001b[0m                 \u001b[0mi\u001b[0m\u001b[0;34m-=\u001b[0m\u001b[0;36m1\u001b[0m\u001b[0;34m\u001b[0m\u001b[0;34m\u001b[0m\u001b[0m\n\u001b[1;32m     29\u001b[0m \u001b[0;34m\u001b[0m\u001b[0m\n",
      "\u001b[0;31mIndexError\u001b[0m: string index out of range"
     ]
    }
   ],
   "source": [
    "title_list = []\n",
    "pagenum_list = []\n",
    "title_formatted_list = []\n",
    "for item in table_of_contents_raw:\n",
    "        title, pagenum = split_to_title_and_pagenum(item)\n",
    "        if title != None:\n",
    "            title_list.append(title)\n",
    "            pagenum_list.append(pagenum)\n",
    "            title_formatted_list.append(\n",
    "               convert_title_to_filename(title))\n",
    "            \n",
    "# for page_list, we need to add the last page as well\n",
    "pagenum_list.append(num_of_pages + 1)"
   ]
  },
  {
   "cell_type": "code",
   "execution_count": 56,
   "metadata": {},
   "outputs": [
    {
     "name": "stdout",
     "output_type": "stream",
     "text": [
      "<class 'str'>\n",
      "<class 'str'>\n",
      "<class 'str'>\n",
      "<class 'str'>\n",
      "<class 'str'>\n",
      "<class 'str'>\n",
      "<class 'str'>\n",
      "<class 'str'>\n",
      "<class 'str'>\n",
      "<class 'str'>\n",
      "<class 'str'>\n",
      "<class 'str'>\n",
      "<class 'str'>\n",
      "<class 'str'>\n",
      "<class 'str'>\n",
      "<class 'str'>\n",
      "<class 'str'>\n",
      "<class 'str'>\n",
      "<class 'str'>\n",
      "<class 'str'>\n",
      "<class 'str'>\n",
      "<class 'str'>\n",
      "<class 'str'>\n",
      "<class 'str'>\n",
      "<class 'str'>\n",
      "<class 'str'>\n",
      "<class 'str'>\n",
      "<class 'str'>\n",
      "<class 'str'>\n",
      "<class 'str'>\n",
      "<class 'str'>\n",
      "<class 'str'>\n",
      "<class 'str'>\n",
      "<class 'str'>\n",
      "<class 'str'>\n",
      "<class 'str'>\n",
      "<class 'str'>\n",
      "<class 'str'>\n",
      "<class 'str'>\n",
      "<class 'str'>\n",
      "<class 'str'>\n",
      "<class 'str'>\n",
      "<class 'str'>\n",
      "<class 'str'>\n",
      "<class 'str'>\n",
      "<class 'str'>\n",
      "<class 'str'>\n",
      "<class 'str'>\n",
      "<class 'str'>\n",
      "<class 'str'>\n",
      "<class 'str'>\n",
      "<class 'str'>\n",
      "<class 'str'>\n",
      "<class 'str'>\n",
      "<class 'str'>\n",
      "<class 'str'>\n",
      "<class 'str'>\n",
      "<class 'str'>\n",
      "<class 'str'>\n",
      "<class 'str'>\n",
      "<class 'str'>\n",
      "<class 'str'>\n",
      "<class 'str'>\n",
      "<class 'str'>\n",
      "<class 'str'>\n",
      "<class 'str'>\n",
      "<class 'str'>\n",
      "<class 'str'>\n",
      "<class 'str'>\n",
      "<class 'str'>\n",
      "<class 'str'>\n",
      "<class 'str'>\n",
      "<class 'str'>\n",
      "<class 'str'>\n",
      "<class 'str'>\n",
      "<class 'str'>\n",
      "<class 'str'>\n",
      "<class 'str'>\n",
      "<class 'str'>\n",
      "<class 'str'>\n",
      "<class 'str'>\n",
      "<class 'str'>\n",
      "<class 'str'>\n",
      "<class 'str'>\n",
      "<class 'str'>\n",
      "<class 'str'>\n",
      "<class 'str'>\n",
      "<class 'str'>\n",
      "<class 'str'>\n",
      "<class 'str'>\n",
      "<class 'str'>\n",
      "<class 'str'>\n",
      "<class 'str'>\n",
      "<class 'str'>\n",
      "<class 'str'>\n",
      "<class 'str'>\n",
      "<class 'str'>\n",
      "<class 'str'>\n",
      "<class 'str'>\n",
      "<class 'str'>\n",
      "<class 'str'>\n",
      "<class 'str'>\n",
      "<class 'str'>\n",
      "<class 'str'>\n",
      "<class 'str'>\n",
      "<class 'str'>\n",
      "<class 'str'>\n",
      "<class 'str'>\n",
      "<class 'str'>\n",
      "<class 'str'>\n",
      "<class 'str'>\n",
      "<class 'str'>\n",
      "<class 'str'>\n",
      "<class 'str'>\n",
      "<class 'str'>\n",
      "<class 'str'>\n",
      "<class 'str'>\n",
      "<class 'str'>\n",
      "<class 'str'>\n",
      "<class 'str'>\n",
      "<class 'str'>\n",
      "<class 'str'>\n",
      "<class 'str'>\n",
      "<class 'str'>\n",
      "<class 'str'>\n",
      "<class 'str'>\n",
      "<class 'str'>\n",
      "<class 'str'>\n",
      "<class 'str'>\n",
      "<class 'str'>\n",
      "<class 'str'>\n",
      "<class 'str'>\n",
      "<class 'str'>\n",
      "<class 'str'>\n",
      "<class 'str'>\n",
      "<class 'str'>\n",
      "<class 'str'>\n",
      "<class 'str'>\n",
      "<class 'str'>\n",
      "<class 'str'>\n",
      "<class 'str'>\n",
      "<class 'str'>\n",
      "<class 'str'>\n",
      "<class 'str'>\n",
      "<class 'str'>\n",
      "<class 'str'>\n",
      "<class 'str'>\n",
      "<class 'str'>\n",
      "<class 'str'>\n",
      "<class 'str'>\n",
      "<class 'str'>\n",
      "<class 'str'>\n",
      "<class 'str'>\n",
      "<class 'str'>\n",
      "<class 'str'>\n",
      "<class 'str'>\n",
      "<class 'str'>\n",
      "<class 'str'>\n",
      "<class 'str'>\n",
      "<class 'str'>\n",
      "<class 'str'>\n",
      "<class 'str'>\n",
      "<class 'str'>\n",
      "<class 'str'>\n",
      "<class 'str'>\n",
      "<class 'str'>\n",
      "<class 'str'>\n",
      "<class 'str'>\n",
      "<class 'str'>\n",
      "<class 'str'>\n",
      "<class 'str'>\n",
      "<class 'str'>\n",
      "<class 'str'>\n",
      "<class 'str'>\n",
      "<class 'str'>\n",
      "175\n"
     ]
    }
   ],
   "source": [
    "i=0\n",
    "for item in table_of_contents_raw:\n",
    "    print(type(item.strip()))\n",
    "    i+=1\n",
    "print(i)"
   ]
  },
  {
   "cell_type": "code",
   "execution_count": 2,
   "metadata": {},
   "outputs": [
    {
     "name": "stdout",
     "output_type": "stream",
     "text": [
      "296\n",
      "Chapter1\n",
      "Introduction\n",
      "Competitiveprogrammingcombinestwotopics:(1)thedesignofalgorithmsand\n",
      "(2)theimplementationofalgorithms.\n",
      "The\n",
      "designofalgorithms\n",
      "consistsofproblemsolvingandmathematical\n",
      "thinking.Skillsforanalyzingproblemsandsolvingthemcreativelyareneeded.\n",
      "Analgorithmforsolvingaproblemhastobebothcorrectandandthe\n",
      "coreoftheproblemisoftenaboutinventinganalgorithm.\n",
      "Theoreticalknowledgeofalgorithmsisimportanttocompetitiveprogrammers.\n",
      "Typically,asolutiontoaproblemisacombinationofwell-knowntechniquesand\n",
      "newinsights.Thetechniquesthatappearincompetitiveprogrammingalsoform\n",
      "thebasisfortheresearchofalgorithms.\n",
      "The\n",
      "implementationofalgorithms\n",
      "requiresgoodprogrammingskills.In\n",
      "competitiveprogramming,thesolutionsaregradedbytestinganimplemented\n",
      "algorithmusingasetoftestcases.Thus,itisnotenoughthattheideaofthe\n",
      "algorithmiscorrect,buttheimplementationalsohastobecorrect.\n",
      "Agoodcodingstyleincontestsisstraightforwardandconcise.Programs\n",
      "shouldbewrittenquickly,becausethereisnotmuchtimeavailable.Unlikein\n",
      "traditionalsoftwareengineering,theprogramsareshort(usuallyatmostafew\n",
      "hundredlinesofcode),andtheydonotneedtobemaintainedafterthecontest.\n",
      "Programminglanguages\n",
      "Atthemoment,themostpopularprogramminglanguagesusedincontestsare\n",
      "C++,PythonandJava.Forexample,inGoogleCodeJam2017,amongthebest\n",
      "3,000participants,79%usedC++,16%usedPythonand8%usedJava[\n",
      "29\n",
      "].\n",
      "Someparticipantsalsousedseverallanguages.\n",
      "ManypeoplethinkthatC++isthebestchoiceforacompetitiveprogrammer,\n",
      "andC++isnearlyalwaysavailableincontestsystems.TheofusingC++\n",
      "arethatitisaverylanguageanditsstandardlibrarycontainsalarge\n",
      "collectionofdatastructuresandalgorithms.\n",
      "Ontheotherhand,itisgoodtomasterseverallanguagesandunderstand\n",
      "theirstrengths.Forexample,iflargeintegersareneededintheproblem,Python\n",
      "canbeagoodchoice,becauseitcontainsbuilt-inoperationsforcalculatingwith\n",
      "3\n",
      "\n"
     ]
    }
   ],
   "source": [
    "# importing required modules \n",
    "import PyPDF2 \n",
    "    \n",
    "# creating a pdf file object \n",
    "pdfFileObj = open('book.pdf', 'rb') \n",
    "    \n",
    "# creating a pdf reader object \n",
    "pdfReader = PyPDF2.PdfFileReader(pdfFileObj) \n",
    "    \n",
    "# printing number of pages in pdf file \n",
    "print(pdfReader.numPages) \n",
    "    \n",
    "# creating a page object \n",
    "pageObj = pdfReader.getPage(12) \n",
    "    \n",
    "# extracting text from page \n",
    "print(pageObj.extractText()) \n",
    "    \n",
    "# closing the pdf file object \n",
    "pdfFileObj.close() "
   ]
  },
  {
   "cell_type": "code",
   "execution_count": null,
   "metadata": {},
   "outputs": [],
   "source": []
  }
 ],
 "metadata": {
  "kernelspec": {
   "display_name": "Python 3",
   "language": "python",
   "name": "python3"
  },
  "language_info": {
   "codemirror_mode": {
    "name": "ipython",
    "version": 3
   },
   "file_extension": ".py",
   "mimetype": "text/x-python",
   "name": "python",
   "nbconvert_exporter": "python",
   "pygments_lexer": "ipython3",
   "version": "3.7.4"
  }
 },
 "nbformat": 4,
 "nbformat_minor": 2
}
